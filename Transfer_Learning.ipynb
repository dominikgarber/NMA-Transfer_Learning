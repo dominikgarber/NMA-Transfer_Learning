{
  "nbformat": 4,
  "nbformat_minor": 0,
  "metadata": {
    "colab": {
      "name": "Untitled0.ipynb",
      "provenance": [],
      "include_colab_link": true
    },
    "kernelspec": {
      "name": "python3",
      "display_name": "Python 3"
    },
    "language_info": {
      "name": "python"
    }
  },
  "cells": [
    {
      "cell_type": "markdown",
      "metadata": {
        "id": "view-in-github",
        "colab_type": "text"
      },
      "source": [
        "<a href=\"https://colab.research.google.com/github/gaojundong/NMA-Transfer_Learning/blob/main/Transfer_Learning.ipynb\" target=\"_parent\"><img src=\"https://colab.research.google.com/assets/colab-badge.svg\" alt=\"Open In Colab\"/></a>"
      ]
    },
    {
      "cell_type": "code",
      "execution_count": null,
      "metadata": {
        "id": "U6vXUHy75wLz"
      },
      "outputs": [],
      "source": [
        "class HDF5Dataset(Dataset):\n",
        "\n",
        "  def __init__(self, h5_path):\n",
        "    self.path = h5_path\n",
        "    self.data = test_catvnoncat.h5(self.path,'r')\n",
        "    self.length = len(h5py.File(h5_path,'r'))\n",
        "  \n",
        "  def __getitem__(self, index):\n",
        "\n",
        "    record = self.data[str(index)]\n",
        "    image = record['X'].value\n",
        "\n",
        "    img = Image.fromarray(pixels.astype('utf8'),'RGB')\n",
        "    label = record['y'].value\n",
        "\n",
        "    image = self.transform(img)\n",
        "    return (img,label)\n",
        "  \n",
        "  def __len__(self):\n",
        "    return self.length\n",
        "\n",
        "\n",
        "train_loader = torch.utils.data.DataLoader('/content/aia_anger.h5', shuffle=True)\n",
        "test_loader = torch.utils.data.DataLoader('/content/aia_joy.h5', shuffle=True)\n"
      ]
    }
  ]
}