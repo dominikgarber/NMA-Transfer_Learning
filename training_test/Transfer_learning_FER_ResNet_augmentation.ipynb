{
 "cells": [
  {
   "cell_type": "markdown",
   "metadata": {
    "id": "view-in-github"
   },
   "source": [
    "<a href=\"https://colab.research.google.com/github/surajn28/NMA-Transfer_Learning/blob/main/Transfer_learning_FER_ResNet.ipynb\" target=\"_parent\"><img src=\"https://colab.research.google.com/assets/colab-badge.svg\" alt=\"Open In Colab\"/></a>"
   ]
  },
  {
   "cell_type": "markdown",
   "metadata": {
    "id": "VpFmHFFvUdhj"
   },
   "source": [
    "# Import ResNet model\n",
    "\n",
    "\n",
    "\n",
    "\n",
    "\n"
   ]
  },
  {
   "cell_type": "code",
   "execution_count": 21,
   "metadata": {
    "id": "taKuFbCeceL0"
   },
   "outputs": [],
   "source": [
    "import os\n",
    "os.environ['KMP_DUPLICATE_LIB_OK']='True'\n",
    "import os.path as osp\n",
    "import torch\n",
    "import torch.nn as nn\n",
    "import torch.nn.functional as F\n",
    "from torch.autograd import Variable\n",
    "from torch.utils.data import Dataset,DataLoader\n",
    "class BasicBlock(nn.Module):\n",
    "  \"\"\"ResNet in PyTorch.\n",
    "      Reference:\n",
    "      [1] Kaiming He, Xiangyu Zhang, Shaoqing Ren, Jian Sun\n",
    "        Deep Residual Learning for Image Recognition. arXiv:1512.03385\n",
    "  \"\"\"\n",
    "\n",
    "  expansion = 1\n",
    "\n",
    "  def __init__(self, in_planes, planes, stride=1):\n",
    "    super(BasicBlock, self).__init__()\n",
    "    self.conv1 = nn.Conv2d(in_planes, planes, kernel_size=3, stride=stride, padding=1, bias=False)\n",
    "    self.bn1 = nn.BatchNorm2d(planes)\n",
    "    self.conv2 = nn.Conv2d(planes, planes, kernel_size=3, stride=1, padding=1, bias=False)\n",
    "    self.bn2 = nn.BatchNorm2d(planes)\n",
    "\n",
    "    self.shortcut = nn.Sequential()\n",
    "    if stride != 1 or in_planes != self.expansion*planes:\n",
    "        self.shortcut = nn.Sequential(\n",
    "            nn.Conv2d(in_planes, self.expansion*planes, kernel_size=1, stride=stride, bias=False),\n",
    "            nn.BatchNorm2d(self.expansion*planes)\n",
    "        )\n",
    "\n",
    "  def forward(self, x):\n",
    "    out = F.relu(self.bn1(self.conv1(x)))\n",
    "    out = self.bn2(self.conv2(out))\n",
    "    out += self.shortcut(x)\n",
    "    out = F.relu(out)\n",
    "    return out\n",
    "\n",
    "\n",
    "class Bottleneck(nn.Module):\n",
    "  expansion = 4\n",
    "\n",
    "  def __init__(self, in_planes, planes, stride=1):\n",
    "    super(Bottleneck, self).__init__()\n",
    "    self.conv1 = nn.Conv2d(in_planes, planes, kernel_size=1, bias=False)\n",
    "    self.bn1 = nn.BatchNorm2d(planes)\n",
    "    self.conv2 = nn.Conv2d(planes, planes, kernel_size=3, stride=stride, padding=1, bias=False)\n",
    "    self.bn2 = nn.BatchNorm2d(planes)\n",
    "    self.conv3 = nn.Conv2d(planes, self.expansion*planes, kernel_size=1, bias=False)\n",
    "    self.bn3 = nn.BatchNorm2d(self.expansion*planes)\n",
    "\n",
    "    self.shortcut = nn.Sequential()\n",
    "    if stride != 1 or in_planes != self.expansion*planes:\n",
    "        self.shortcut = nn.Sequential(\n",
    "            nn.Conv2d(in_planes, self.expansion*planes, kernel_size=1, stride=stride, bias=False),\n",
    "            nn.BatchNorm2d(self.expansion*planes)\n",
    "        )\n",
    "\n",
    "  def forward(self, x):\n",
    "    out = F.relu(self.bn1(self.conv1(x)))\n",
    "    out = F.relu(self.bn2(self.conv2(out)))\n",
    "    out = self.bn3(self.conv3(out))\n",
    "    out += self.shortcut(x)\n",
    "    out = F.relu(out)\n",
    "    return out\n",
    "\n",
    "\n",
    "class ResNet(nn.Module):\n",
    "  def __init__(self, block, num_blocks, num_classes=2):\n",
    "    super(ResNet, self).__init__()\n",
    "    self.in_planes = 64\n",
    "\n",
    "    self.conv1 = nn.Conv2d(3, 64, kernel_size=3, stride=1, padding=1, bias=False)\n",
    "    self.bn1 = nn.BatchNorm2d(64)\n",
    "    self.layer1 = self._make_layer(block, 64, num_blocks[0], stride=1)\n",
    "    self.layer2 = self._make_layer(block, 128, num_blocks[1], stride=2)\n",
    "    self.layer3 = self._make_layer(block, 256, num_blocks[2], stride=2)\n",
    "    self.layer4 = self._make_layer(block, 512, num_blocks[3], stride=2)\n",
    "    self.avgpool = nn.AdaptiveAvgPool2d((1, 1))\n",
    "    self.linear = nn.Linear(512*block.expansion, num_classes)\n",
    "\n",
    "  def _make_layer(self, block, planes, num_blocks, stride):\n",
    "    strides = [stride] + [1]*(num_blocks-1)\n",
    "    layers = []\n",
    "    for stride in strides:\n",
    "      layers.append(block(self.in_planes, planes, stride))\n",
    "      self.in_planes = planes * block.expansion\n",
    "    return nn.Sequential(*layers)\n",
    "\n",
    "  def forward(self, x):\n",
    "    out = F.relu(self.bn1(self.conv1(x)))\n",
    "    out = self.layer1(out)\n",
    "    out = self.layer2(out)\n",
    "    out = self.layer3(out)\n",
    "    out = self.layer4(out)\n",
    "    # out = F.avg_pool2d(out, 4)\n",
    "    out = self.avgpool(out)\n",
    "    out = out.view(out.size(0), -1)\n",
    "    out = self.linear(out)\n",
    "    return out\n",
    "\n",
    "\n",
    "def ResNet18():\n",
    "  return ResNet(BasicBlock, [2, 2, 2, 2])\n",
    "\n",
    "\n",
    "def ResNet34():\n",
    "  return ResNet(BasicBlock, [3, 4, 6, 3])\n",
    "\n",
    "\n",
    "def ResNet50():\n",
    "  return ResNet(Bottleneck, [3, 4, 6, 3])\n",
    "\n",
    "\n",
    "\n",
    "# if __name__ == \"__main__\":\n",
    "\n",
    "#     path = '/Users/gaojun/Documents/p1/NMA/FERG_DB_256'\n",
    "#     trainset = HDF5Dataset(osp.join(path,'train.h5'))\n",
    "#     testset = HDF5Dataset(osp.join(path,'test.h5'))\n",
    "\n",
    "#     trainloader = DataLoader(trainset, batch_size=12, shuffle=True)\n",
    "#     testloader = DataLoader(testset, batch_size=12, shuffle=True)\n",
    "\n",
    "#     net = ResNet18()\n",
    "#     net = net.double()\n",
    "#     t = torch.tensor(trainset.__getitem__(1)[0]).unsqueeze(dim=0).to(torch.double)\n",
    "\n",
    "#     y = net(t)\n",
    "#     print(y)\n",
    "\n"
   ]
  },
  {
   "cell_type": "code",
   "execution_count": 22,
   "metadata": {
    "colab": {
     "base_uri": "https://localhost:8080/"
    },
    "id": "NXjU1MfGSt4c",
    "outputId": "c03882cc-e3f1-4746-e4e9-8798234665c1"
   },
   "outputs": [],
   "source": [
    "import os \n",
    "os.chdir(r'C:\\Users\\wliwa\\Desktop\\drive')"
   ]
  },
  {
   "cell_type": "code",
   "execution_count": 23,
   "metadata": {
    "id": "ByVGt0jClb64"
   },
   "outputs": [],
   "source": [
    "# imports\n",
    "import gc\n",
    "import csv\n",
    "import glob\n",
    "import torch\n",
    "import pandas as pd\n",
    "import PIL\n",
    "import h5py\n",
    "import multiprocessing\n",
    "\n",
    "import numpy as np\n",
    "import pandas as pd\n",
    "import torch.nn as nn\n",
    "import matplotlib.pyplot as plt\n",
    "\n",
    "from torch.utils.data import Dataset\n",
    "import torch.optim as optim\n",
    "import torch.nn.functional as F\n",
    "import torch.backends.cudnn as cudnn\n",
    "from torch.autograd import Variable\n",
    "\n",
    "import torchvision\n",
    "import torchvision.transforms as transforms\n",
    "\n",
    "# from google.colab import drive\n",
    "# from ResNet import ResNet,BasicBlock,Bottleneck"
   ]
  },
  {
   "cell_type": "markdown",
   "metadata": {
    "id": "CEyTaMxydMcn"
   },
   "source": [
    "# Class H5FileDataset\n"
   ]
  },
  {
   "cell_type": "code",
   "execution_count": 24,
   "metadata": {
    "id": "rsgC7zmRleKV"
   },
   "outputs": [],
   "source": [
    "# Data loader with data augmentation\n",
    "\n",
    "class H5FileDataset(Dataset):\n",
    "    # dataloader output: (pic_indices, color_channel, height, width)\n",
    "    def __init__(self, h5_filename, transform=None, target_transform=None):\n",
    "        self.h5_filename = h5_filename\n",
    "        self.img_h5_file = self._load_h5_file(self.h5_filename)\n",
    "        self.all_labels = self.img_h5_file['labels'][:]\n",
    "        self.transform = transform  # it just assign the \"state\" of transform, not apply it\n",
    "\n",
    "\n",
    "    def __len__(self):\n",
    "        return len(self.all_labels)\n",
    "\n",
    "\n",
    "    def __getitem__(self, idx):\n",
    "        img = self.img_h5_file['img_data'][idx]\n",
    "        label = self.img_h5_file['labels'][idx]\n",
    "\n",
    "        label = torch.as_tensor(label, dtype=torch.float64)\n",
    "\n",
    "        img = np.transpose(img, [2, 0, 1])\n",
    "        img = img.astype(np.double)\n",
    "        img = torch.as_tensor(img, dtype=torch.float64)\n",
    "        img = img/255\n",
    "        if self.transform is not None:\n",
    "            img = self.transform(img)  # we're going to write specific methods for transform\n",
    "        return img, label\n",
    "\n",
    "\n",
    "    def _load_h5_file(self, h5_filename):\n",
    "        file = h5py.File(h5_filename, 'r')\n",
    "        img_data = file['pic_mat']\n",
    "        img_labels = file['labels']\n",
    "        return dict(file=file, img_data=img_data, labels=img_labels)\n",
    "\n"
   ]
  },
  {
   "cell_type": "markdown",
   "metadata": {
    "id": "sQ6s9HdYeNnQ"
   },
   "source": [
    "# Define Training and testing function"
   ]
  },
  {
   "cell_type": "code",
   "execution_count": 25,
   "metadata": {
    "id": "ZFpQN-iaodIU"
   },
   "outputs": [],
   "source": [
    "def ResNet18():\n",
    "  return ResNet(BasicBlock, [2, 2, 2, 2])\n",
    "\n",
    "# hyper-parameters\n",
    "use_cuda = torch.cuda.is_available()\n",
    "best_acc = 0  # best test accuracy\n",
    "start_epoch = 0  # start from epoch 0 or last checkpoint epoch\n",
    "batch_size = 64\n",
    "max_epochs = 15  # Please change this to 200\n",
    "max_epochs_target = 10\n",
    "# base_learning_rate = 0.5\n",
    "\n",
    "base_learning_rate = 0.1\n",
    "\n",
    "torchvision_transforms = True  # True/False if you want use torchvision augmentations\n",
    "\n",
    "def train(net, epoch, trainloader, use_cuda=True):\n",
    "  print('\\nEpoch: %d' % epoch)\n",
    "  net.train()\n",
    "  train_loss = 0\n",
    "  correct = 0\n",
    "  total = 0\n",
    "  for batch_idx, (inputs, targets) in enumerate(trainloader):\n",
    "    print('batch_idx ', batch_idx)\n",
    "    targets = np.array(targets, dtype=int)\n",
    "    # targets_num = np.zeros(len(targets))\n",
    "    # print(targets_num.shape)\n",
    "    # for idx_target in range(len(targets)):\n",
    "    #   if targets[idx_target] == 'joy':\n",
    "    #     targets_num[idx_target] = 0\n",
    "    #   else:\n",
    "    #     targets_num[idx_target] = 1\n",
    "    targets = torch.as_tensor(targets, dtype=torch.long)\n",
    "    if use_cuda:\n",
    "      inputs, targets = inputs.cuda(), targets.cuda()\n",
    "    print('converted targets', batch_idx)\n",
    "\n",
    "    optimizer.zero_grad()\n",
    "    inputs, targets = Variable(inputs), Variable(targets)\n",
    "    outputs = net(inputs)\n",
    "    loss = criterion(outputs, targets)\n",
    "    loss.backward()\n",
    "    optimizer.step()\n",
    "    print('optimizer ', batch_idx)\n",
    "\n",
    "    train_loss += loss.item()\n",
    "    _, predicted = torch.max(outputs.data, 1)\n",
    "    total += targets.size(0)\n",
    "    correct += predicted.eq(targets.data).cpu().sum()\n",
    "    print('correct ', batch_idx)\n",
    "\n",
    "    # if batch_idx % 500 == 0:\n",
    "    print(batch_idx, len(trainloader), 'Loss: %.3f | Acc: %.3f%% (%d/%d)'\n",
    "        % (train_loss/(batch_idx+1), 100.*correct/total, correct, total))\n",
    "      \n",
    "  return (train_loss/batch_idx, 100.*correct/total)\n",
    "\n",
    "\n",
    "def test(net, epoch, testloader, outModelName, use_cuda=True):\n",
    "  global best_acc\n",
    "  net.eval()\n",
    "  test_loss, correct, total = 0, 0, 0\n",
    "  with torch.no_grad():\n",
    "    for batch_idx, (inputs, targets) in enumerate(testloader):\n",
    "      print('batch_idx ', batch_idx)\n",
    "      targets = np.array(targets, dtype=int)\n",
    "      # targets_num = np.zeros(len(targets))\n",
    "      # print(targets_num.shape)\n",
    "      # for idx_target in range(len(targets)):\n",
    "      #   if targets[idx_target] == 'joy':\n",
    "      #     targets_num[idx_target] = 0\n",
    "      #   else:\n",
    "      #     targets_num[idx_target] = 1\n",
    "      targets = torch.as_tensor(targets, dtype=torch.long)\n",
    "      print('converted targets', batch_idx)\n",
    "      if use_cuda:\n",
    "        inputs, targets = inputs.cuda(), targets.cuda()\n",
    "\n",
    "      outputs = net(inputs)\n",
    "      loss = criterion(outputs, targets)\n",
    "\n",
    "      test_loss += loss.item()\n",
    "      _, predicted = torch.max(outputs.data, 1)\n",
    "      total += targets.size(0)\n",
    "      correct += predicted.eq(targets.data).cpu().sum()\n",
    "\n",
    "      if batch_idx % 200 == 0:\n",
    "        print(batch_idx, len(testloader), 'Loss: %.3f | Acc: %.3f%% (%d/%d)'\n",
    "            % (test_loss/(batch_idx+1), 100.*correct/total, correct, total))\n",
    "\n",
    "    # Save checkpoint.\n",
    "    acc = 100.*correct/total\n",
    "    if acc > best_acc:\n",
    "        best_acc = acc\n",
    "        checkpoint(net, acc, epoch, outModelName)\n",
    "    return (test_loss/batch_idx, 100.*correct/total)\n",
    "\n",
    "# checkpoint & adjust_learning_rate\n",
    "def checkpoint(model, acc, epoch, outModelName):\n",
    "  # Save checkpoint.\n",
    "  print('Saving..')\n",
    "  state = {\n",
    "      'state_dict': model.state_dict(),\n",
    "      'acc': acc,\n",
    "      'epoch': epoch,\n",
    "      'rng_state': torch.get_rng_state()\n",
    "  }\n",
    "  if not os.path.isdir('checkpoint'):\n",
    "      os.mkdir('checkpoint')\n",
    "  torch.save(state, f'./checkpoint/{outModelName}.t7')\n",
    "\n",
    "def adjust_learning_rate(optimizer, epoch):\n",
    "  \"\"\"decrease the learning rate at 100 and 150 epoch\"\"\"\n",
    "  lr = base_learning_rate\n",
    "  if epoch <= 9 and lr > 0.1:\n",
    "    # warm-up training for large minibatch\n",
    "    lr = 0.1 + (base_learning_rate - 0.1) * epoch / 10.\n",
    "  if epoch >= 100:\n",
    "    lr /= 10\n",
    "  if epoch >= 150:\n",
    "    lr /= 10\n",
    "  for param_group in optimizer.param_groups:\n",
    "    param_group['lr'] = lr\n",
    "\n",
    "# if __name__==\"__main__\":\n"
   ]
  },
  {
   "cell_type": "code",
   "execution_count": 26,
   "metadata": {
    "colab": {
     "base_uri": "https://localhost:8080/"
    },
    "id": "USSGVQV6k5dx",
    "outputId": "7a30b777-4d1d-4052-e15d-9c8d21034913"
   },
   "outputs": [
    {
     "name": "stdout",
     "output_type": "stream",
     "text": [
      "True\n"
     ]
    }
   ],
   "source": [
    "print(use_cuda)"
   ]
  },
  {
   "cell_type": "markdown",
   "metadata": {
    "id": "BHHecQNjfFe1"
   },
   "source": [
    "# DataLoader"
   ]
  },
  {
   "cell_type": "markdown",
   "metadata": {
    "id": "61Bdn2QZfaom"
   },
   "source": [
    "## FERG set"
   ]
  },
  {
   "cell_type": "code",
   "execution_count": 27,
   "metadata": {
    "colab": {
     "base_uri": "https://localhost:8080/",
     "height": 320
    },
    "id": "gGyEBgdFc5OY",
    "outputId": "2028c6fb-fade-4e06-f0c2-ae321a83dcf8"
   },
   "outputs": [
    {
     "name": "stderr",
     "output_type": "stream",
     "text": [
      "Clipping input data to the valid range for imshow with RGB data ([0..1] for floats or [0..255] for integers).\n"
     ]
    },
    {
     "name": "stdout",
     "output_type": "stream",
     "text": [
      "Batch size: torch.Size([64, 3, 128, 128])\n"
     ]
    },
    {
     "data": {
      "image/png": "[encoded data removed]",
      "text/plain": [
       "<Figure size 432x288 with 1 Axes>"
      ]
     },
     "metadata": {
      "needs_background": "light"
     },
     "output_type": "display_data"
    },
    {
     "data": {
      "text/plain": [
       "Text(0.5, 0.98, 'label 1.0')"
      ]
     },
     "execution_count": 27,
     "metadata": {},
     "output_type": "execute_result"
    },
    {
     "data": {
      "text/plain": [
       "<Figure size 432x288 with 0 Axes>"
      ]
     },
     "metadata": {},
     "output_type": "display_data"
    }
   ],
   "source": [
    "# composed = transforms.Compose([transforms.Normalize((0.485, 0.456, 0.406), (0.229, 0.224, 0.225))])\n",
    "\n",
    "# mean and std calc from calc_normalization.py from wanru-legion, all used FERG data\n",
    "composed = transforms.Compose([transforms.RandomRotation(30),\n",
    "                               transforms.Normalize([0.20473262, 0.14647761, 0.11153657],\n",
    "                                                    [0.27463099, 0.20145596, 0.16454244])])\n",
    "\n",
    "trainset = H5FileDataset(r'C:\\Users\\wliwa\\Desktop\\drive\\datasets\\FERG_h5\\new\\train_dataset.h5',\n",
    "                         transform=composed)\n",
    "testset = H5FileDataset(r'C:\\Users\\wliwa\\Desktop\\drive\\datasets\\FERG_h5\\new\\test_dataset.h5',\n",
    "                        transform=composed)\n",
    "\n",
    "trainloader = torch.utils.data.DataLoader(trainset, batch_size=batch_size, shuffle=True)\n",
    "testloader = torch.utils.data.DataLoader(testset, batch_size=batch_size, shuffle=True)\n",
    "\n",
    "\n",
    "batch_images, batch_labels = next(iter(trainloader))\n",
    "print('Batch size:', batch_images.shape)\n",
    "eg_pic = batch_images[0]\n",
    "eg_label = batch_labels[0]\n",
    "plt.figure()\n",
    "plt.imshow(eg_pic.permute([1, 2, 0]))\n",
    "plt.show()\n",
    "plt.suptitle(f'label {eg_label}')\n"
   ]
  },
  {
   "cell_type": "markdown",
   "metadata": {
    "id": "mlb3FVhFfddO"
   },
   "source": [
    "## KDEF set"
   ]
  },
  {
   "cell_type": "code",
   "execution_count": 28,
   "metadata": {
    "colab": {
     "base_uri": "https://localhost:8080/",
     "height": 321
    },
    "id": "39QJc7_Tff8L",
    "outputId": "06989e8c-e10c-4c27-aa3f-ce2af1e8fa87"
   },
   "outputs": [],
   "source": [
    "# path = '../../datasets/KDEF_h5/new'\n",
    "\n",
    "# # composed = transforms.Compose([transforms.RandomCrop([500, 500]), \n",
    "# #                                transforms.Resize([128, 128]), \n",
    "# #                                transforms.RandomRotation(30), \n",
    "# #                                transforms.Normalize((0.485, 0.456, 0.406), (0.229, 0.224, 0.225))])\n",
    "\n",
    "# train_dataset = H5FileDataset(os.path.join(path,'kdef_train_dataset.h5'),\n",
    "#                              transform=composed)\n",
    "# val_dataset = H5FileDataset(os.path.join(path,'kdef_val_dataset.h5'),\n",
    "#                              transform=composed)\n",
    "# test_dataset = H5FileDataset(os.path.join(path,'kdef_test_dataset.h5'),\n",
    "#                              transform=composed)\n",
    "\n",
    "# train_dataloader = torch.utils.data.DataLoader(test_dataset, batch_size=50, shuffle=True)\n",
    "# batch_images, batch_labels = next(iter(train_dataloader))\n",
    "# print('Batch size:', batch_images.shape)\n",
    "\n",
    "# plt.figure()\n",
    "# plt.imshow(batch_images[6].permute([1, 2, 0]).to(torch.uint8))\n",
    "# plt.show()\n",
    "# plt.suptitle(f'label {batch_labels[0]}')\n",
    "\n",
    "# print(batch_images[6].mean())"
   ]
  },
  {
   "cell_type": "markdown",
   "metadata": {
    "id": "q7jvAumDfKtT"
   },
   "source": [
    "# Main "
   ]
  },
  {
   "cell_type": "code",
   "execution_count": 29,
   "metadata": {},
   "outputs": [],
   "source": [
    "# mean and std calc from calc_normalization.py from wanru-legion, all used FERG data\n",
    "composed = transforms.Compose([transforms.RandomRotation(30),\n",
    "                               transforms.Normalize([0.20473262, 0.14647761, 0.11153657],\n",
    "                                                    [0.27463099, 0.20145596, 0.16454244])])\n"
   ]
  },
  {
   "cell_type": "code",
   "execution_count": null,
   "metadata": {
    "colab": {
     "base_uri": "https://localhost:8080/",
     "height": 1000
    },
    "id": "7BYCTgZpBoOF",
    "outputId": "9114daed-29db-4c4c-d14f-44b32101f539"
   },
   "outputs": [
    {
     "name": "stdout",
     "output_type": "stream",
     "text": [
      "\n",
      "Epoch: 0\n",
      "batch_idx  0\n",
      "converted targets 0\n",
      "optimizer  0\n",
      "correct  0\n",
      "0 38 Loss: 0.667 | Acc: 60.938% (39/64)\n",
      "batch_idx  1\n",
      "converted targets 1\n",
      "optimizer  1\n",
      "correct  1\n",
      "1 38 Loss: 0.847 | Acc: 51.562% (66/128)\n",
      "batch_idx  2\n",
      "converted targets 2\n",
      "optimizer  2\n",
      "correct  2\n",
      "2 38 Loss: 3.343 | Acc: 51.562% (99/192)\n",
      "batch_idx  3\n",
      "converted targets 3\n",
      "optimizer  3\n",
      "correct  3\n",
      "3 38 Loss: 3.589 | Acc: 50.391% (129/256)\n",
      "batch_idx  4\n",
      "converted targets 4\n",
      "optimizer  4\n",
      "correct  4\n",
      "4 38 Loss: 3.984 | Acc: 49.375% (158/320)\n",
      "batch_idx  5\n",
      "converted targets 5\n",
      "optimizer  5\n",
      "correct  5\n",
      "5 38 Loss: 3.870 | Acc: 50.260% (193/384)\n",
      "batch_idx  6\n",
      "converted targets 6\n",
      "optimizer  6\n"
     ]
    }
   ],
   "source": [
    "net = ResNet18()\n",
    "net = net.double()\n",
    "net = net.cuda()\n",
    "result_folder = './results/'\n",
    "if not os.path.exists(result_folder):\n",
    "    os.makedirs(result_folder)\n",
    "\n",
    "logname = result_folder + net.__class__.__name__ + '_pretrain' + '.csv'\n",
    "\n",
    "# Optimizer and criterion\n",
    "criterion = nn.CrossEntropyLoss()\n",
    "optimizer = optim.SGD(net.parameters(), lr=base_learning_rate, momentum=0.9, weight_decay=1e-4)\n",
    "\n",
    "outModelName = 'pretrain'\n",
    "if not os.path.exists(logname):\n",
    "    with open(logname, 'w') as logfile:\n",
    "        logwriter = csv.writer(logfile, delimiter=',')\n",
    "        logwriter.writerow(['epoch', 'train loss', 'train acc', 'test loss', 'test acc'])\n",
    "\n",
    "for epoch in range(start_epoch, max_epochs):\n",
    "    adjust_learning_rate(optimizer, epoch)\n",
    "\n",
    "    trainset = H5FileDataset(r'C:\\Users\\wliwa\\Desktop\\drive\\datasets\\FERG_h5\\new\\train_dataset.h5',\n",
    "                             transform=composed)\n",
    "    testset = H5FileDataset(r'C:\\Users\\wliwa\\Desktop\\drive\\datasets\\FERG_h5\\new\\test_dataset.h5',\n",
    "                            transform=composed)\n",
    "    trainloader = torch.utils.data.DataLoader(trainset, batch_size=batch_size, shuffle=True)\n",
    "    testloader = torch.utils.data.DataLoader(testset, batch_size=batch_size, shuffle=True)\n",
    "    \n",
    "    train_loss, train_acc = train(net, epoch, trainloader, use_cuda=use_cuda)\n",
    "    print('finished train epoch ', epoch)\n",
    "    test_loss, test_acc = test(net, epoch, testloader, outModelName, use_cuda=use_cuda)\n",
    "    print('finished test epoch ', epoch)\n",
    "    with open(logname, 'a') as logfile:\n",
    "        logwriter = csv.writer(logfile, delimiter=',')\n",
    "        logwriter.writerow([epoch, train_loss, train_acc.item(), test_loss, test_acc.item()])\n",
    "    print(f'Epoch: {epoch} | train acc: {train_acc} | test acc: {test_acc}')"
   ]
  },
  {
   "cell_type": "code",
   "execution_count": null,
   "metadata": {
    "id": "xDLqDysruqBT"
   },
   "outputs": [],
   "source": []
  }
 ],
 "metadata": {
  "accelerator": "GPU",
  "colab": {
   "collapsed_sections": [],
   "name": "Transfer_learning_FER_ResNet_augmentation.ipynb",
   "provenance": []
  },
  "gpuClass": "standard",
  "kernelspec": {
   "display_name": "Python 3 (ipykernel)",
   "language": "python",
   "name": "python3"
  },
  "language_info": {
   "codemirror_mode": {
    "name": "ipython",
    "version": 3
   },
   "file_extension": ".py",
   "mimetype": "text/x-python",
   "name": "python",
   "nbconvert_exporter": "python",
   "pygments_lexer": "ipython3",
   "version": "3.9.7"
  }
 },
 "nbformat": 4,
 "nbformat_minor": 1
}
