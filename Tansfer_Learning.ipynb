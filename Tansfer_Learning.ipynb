{
  "nbformat": 4,
  "nbformat_minor": 0,
  "metadata": {
    "colab": {
      "name": "Tansfer_Learning.ipynb",
      "provenance": [],
      "authorship_tag": "ABX9TyPpGxbWnn/xhE6bpxIjQgeK",
      "include_colab_link": true
    },
    "kernelspec": {
      "name": "python3",
      "display_name": "Python 3"
    },
    "language_info": {
      "name": "python"
    }
  },
  "cells": [
    {
      "cell_type": "markdown",
      "metadata": {
        "id": "view-in-github",
        "colab_type": "text"
      },
      "source": [
        "<a href=\"https://colab.research.google.com/github/gaojundong/NMA-Transfer_Learning/blob/main/Tansfer_Learning.ipynb\" target=\"_parent\"><img src=\"https://colab.research.google.com/assets/colab-badge.svg\" alt=\"Open In Colab\"/></a>"
      ]
    },
    {
      "cell_type": "code",
      "execution_count": 1,
      "metadata": {
        "id": "8bFDIJdCbgni"
      },
      "outputs": [],
      "source": [
        "!git config --global user.name \"gaojundong\"\n",
        "!git config --global user.email \"d412@qq.com\"\n"
      ]
    },
    {
      "cell_type": "code",
      "source": [
        "import os\n",
        "from getpass import getpass\n",
        "user = getpass('GitHub user')\n",
        "password = getpass('GitHub password')\n",
        "os.environ['GITHUB_AUTH'] = user + ':' + password\n"
      ],
      "metadata": {
        "colab": {
          "base_uri": "https://localhost:8080/"
        },
        "id": "UuIFlpSxcgjz",
        "outputId": "a88f9fdf-b9e9-4d4e-e7af-40d38b2114d5"
      },
      "execution_count": 2,
      "outputs": [
        {
          "name": "stdout",
          "output_type": "stream",
          "text": [
            "GitHub user··········\n",
            "GitHub password··········\n"
          ]
        }
      ]
    },
    {
      "cell_type": "code",
      "source": [
        "\n",
        "\n"
      ],
      "metadata": {
        "colab": {
          "base_uri": "https://localhost:8080/"
        },
        "id": "MXtPgZOdd2jc",
        "outputId": "bb6318fe-935c-435e-974c-5f98e11bc716"
      },
      "execution_count": 4,
      "outputs": [
        {
          "output_type": "stream",
          "name": "stdout",
          "text": [
            "GitHub user··········\n",
            "GitHub password··········\n",
            "Initialized empty Git repository in /content/.git/\n",
            "[master (root-commit) beeb93d] first commit\n",
            " 19 files changed, 50710 insertions(+)\n",
            " create mode 100644 .config/.last_opt_in_prompt.yaml\n",
            " create mode 100644 .config/.last_survey_prompt.yaml\n",
            " create mode 100644 .config/.last_update_check.json\n",
            " create mode 100644 .config/active_config\n",
            " create mode 100644 .config/config_sentinel\n",
            " create mode 100644 .config/configurations/config_default\n",
            " create mode 100644 .config/gce\n",
            " create mode 100644 .config/logs/2022.07.06/13.20.41.536125.log\n",
            " create mode 100644 .config/logs/2022.07.06/13.21.04.313145.log\n",
            " create mode 100644 .config/logs/2022.07.06/13.21.24.463860.log\n",
            " create mode 100644 .config/logs/2022.07.06/13.21.33.528230.log\n",
            " create mode 100644 .config/logs/2022.07.06/13.21.53.919535.log\n",
            " create mode 100644 .config/logs/2022.07.06/13.21.54.713715.log\n",
            " create mode 100755 sample_data/README.md\n",
            " create mode 100755 sample_data/anscombe.json\n",
            " create mode 100644 sample_data/california_housing_test.csv\n",
            " create mode 100644 sample_data/california_housing_train.csv\n",
            " create mode 100644 sample_data/mnist_test.csv\n",
            " create mode 100644 sample_data/mnist_train_small.csv\n",
            "remote: Not Found\n",
            "fatal: repository 'https://gaojundong@github.com/NMA-Transfer_Learning.git/' not found\n"
          ]
        }
      ]
    }
  ]
}